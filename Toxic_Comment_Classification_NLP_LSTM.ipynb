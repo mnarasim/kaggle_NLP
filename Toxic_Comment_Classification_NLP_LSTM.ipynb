{
  "cells": [
    {
      "cell_type": "code",
      "execution_count": null,
      "metadata": {
        "colab": {
          "base_uri": "https://localhost:8080/"
        },
        "id": "YQ-wHJO7a_rW",
        "outputId": "852ec0b1-2889-425b-fd61-4914cf4d5a5d"
      },
      "outputs": [
        {
          "name": "stderr",
          "output_type": "stream",
          "text": [
            "[nltk_data] Downloading package stopwords to /root/nltk_data...\n",
            "[nltk_data]   Package stopwords is already up-to-date!\n",
            "[nltk_data] Downloading package omw-1.4 to /root/nltk_data...\n",
            "[nltk_data]   Package omw-1.4 is already up-to-date!\n",
            "[nltk_data] Downloading package wordnet to /root/nltk_data...\n",
            "[nltk_data]   Package wordnet is already up-to-date!\n"
          ]
        },
        {
          "name": "stdout",
          "output_type": "stream",
          "text": [
            "Drive already mounted at /content/drive; to attempt to forcibly remount, call drive.mount(\"/content/drive\", force_remount=True).\n"
          ]
        }
      ],
      "source": [
        "import pandas as pd\n",
        "import tensorflow as tf\n",
        "import numpy as np\n",
        "import random\n",
        "from google.colab import drive \n",
        "from sklearn.model_selection import train_test_split\n",
        "import seaborn as sns\n",
        "import os\n",
        "import nltk\n",
        "import matplotlib.pyplot as plt\n",
        "SEED = 0\n",
        "tf.random.set_seed(SEED)\n",
        "np.random.seed(SEED)\n",
        "random.seed(SEED)\n",
        "from keras.preprocessing.text import Tokenizer, text_to_word_sequence\n",
        "from nltk.corpus import stopwords\n",
        "import string\n",
        "from keras.preprocessing.sequence import pad_sequences\n",
        "nltk.download('stopwords')\n",
        "nltk.download('omw-1.4')\n",
        "nltk.download('wordnet')\n",
        "stopWords = set(stopwords.words('english'))\n",
        "from nltk.stem import WordNetLemmatizer\n",
        "\n",
        "drive.mount('/content/drive')"
      ]
    },
    {
      "cell_type": "code",
      "execution_count": null,
      "metadata": {
        "id": "U24ZmZXUa8OA"
      },
      "outputs": [],
      "source": [
        "DRIVE_FOLDER = '/content/drive/My Drive/kaggle_nlp/data/'\n",
        "train = pd.read_csv(DRIVE_FOLDER + 'train.csv')\n",
        "test = pd.read_csv(DRIVE_FOLDER + 'test.csv')\n",
        "test_labels = pd.read_csv(DRIVE_FOLDER + 'test_labels.csv')\n",
        "test = pd.merge(test, test_labels, on='id' )\n",
        "test = test[(test.toxic != -1) | (test.severe_toxic != -1) | (test.obscene != -1) | (test.threat != -1) | (test.insult != -1) | (test.identity_hate != -1)]\n"
      ]
    },
    {
      "cell_type": "code",
      "execution_count": null,
      "metadata": {
        "id": "SGg-_i9ja1k-"
      },
      "outputs": [],
      "source": [
        "#Convert text to lower case\n",
        "train['comment_text'] = train['comment_text'].str.lower()\n",
        "\n",
        "\n",
        "test['comment_text'] = test['comment_text'].str.lower()"
      ]
    },
    {
      "cell_type": "code",
      "execution_count": null,
      "metadata": {
        "colab": {
          "base_uri": "https://localhost:8080/"
        },
        "id": "Sc9LTuZrcI9g",
        "outputId": "22117872-0d51-45c2-e47c-89cd42cb4103"
      },
      "outputs": [
        {
          "name": "stdout",
          "output_type": "stream",
          "text": [
            "hey what is it\n",
            "  talk \n",
            "what is it an exclusive group of some wp talibanswho are good at destroying selfappointed purist who gang up any one who asks them questions abt their antisocial and destructive noncontribution at wp\n",
            "\n",
            "ask sityush to clean up his behavior than issue me nonsensical warnings\n"
          ]
        }
      ],
      "source": [
        "#Clean up text\n",
        "import re\n",
        "from nltk.stem.snowball import SnowballStemmer\n",
        "def clean(s):\n",
        "\n",
        "  \n",
        "  # remove punctuations\n",
        "  \n",
        "  s= re.sub(r'[^\\w\\s]+', '', s)\n",
        " \n",
        "  #replace numbers\n",
        "\n",
        "  s = re.sub(r'[0-9]+','', s)\n",
        "  s = re.sub(r'\\.+','', s)\n",
        " \n",
        "  #remove special characters\n",
        "  s = re.sub(r'!@#$%^&*?', '', s)\n",
        " \n",
        " \n",
        "  return s\n",
        "train['comment_text'] = train['comment_text'].map(lambda x: clean(x))\n",
        "test['comment_text'] = test['comment_text'].map(lambda x: clean(x))\n",
        "\n",
        "print(train.loc[12,'comment_text'])"
      ]
    },
    {
      "cell_type": "code",
      "execution_count": null,
      "metadata": {
        "colab": {
          "base_uri": "https://localhost:8080/"
        },
        "id": "-qaxDt1icR68",
        "outputId": "23fb8452-d52e-4351-b24e-d51b63282ba1"
      },
      "outputs": [
        {
          "name": "stdout",
          "output_type": "stream",
          "text": [
            "hey it\n",
            "  talk \n",
            "what exclusive group wp talibanswho good destroying selfappointed purist gang one asks questions abt antisocial destructive noncontribution wp\n",
            "\n",
            "ask sityush clean behavior issue nonsensical warnings\n"
          ]
        }
      ],
      "source": [
        "#remove stop words\n",
        "def stop_words(s):\n",
        "  w = [i for i in s.split(' ') if i not in stopWords]\n",
        "  return ' '.join(w)\n",
        "\n",
        "train['comment_text'] = train['comment_text'].map(lambda x: stop_words(x))\n",
        "print(train.loc[12,'comment_text'])"
      ]
    },
    {
      "cell_type": "code",
      "execution_count": null,
      "metadata": {
        "colab": {
          "base_uri": "https://localhost:8080/"
        },
        "id": "L_fF3T3mc4_e",
        "outputId": "cca5807f-b543-4f0f-dee3-0251135d2930"
      },
      "outputs": [
        {
          "name": "stdout",
          "output_type": "stream",
          "text": [
            "hey it\n",
            "  talk \n",
            "what exclus group wp talibanswho good destroy selfappoint purist gang one ask question abt antisoci destruct noncontribut wp\n",
            "\n",
            "ask sityush clean behavior issu nonsens warn\n"
          ]
        }
      ],
      "source": [
        "#stem words\n",
        "stemmer = SnowballStemmer('english')\n",
        "def stem_words(s):\n",
        "  w = [stemmer.stem(i) for i in s.split(' ')]\n",
        "\n",
        "  return ' '.join(w)\n",
        "\n",
        "train['comment_text'] = train['comment_text'].map(lambda x: stem_words(x))\n",
        "print(train.loc[12,'comment_text'])"
      ]
    },
    {
      "cell_type": "code",
      "execution_count": null,
      "metadata": {
        "colab": {
          "base_uri": "https://localhost:8080/"
        },
        "id": "0QpshqOEc9ku",
        "outputId": "0a9a1e63-6c55-4cbd-eb28-5c8382f69c93"
      },
      "outputs": [
        {
          "name": "stdout",
          "output_type": "stream",
          "text": [
            "hey it\n",
            "  talk \n",
            "what exclus group wp talibanswho good destroy selfappoint purist gang one ask question abt antisoci destruct noncontribut wp\n",
            "\n",
            "ask sityush clean behavior issu nonsens warn\n"
          ]
        }
      ],
      "source": [
        "#lemmatize words\n",
        "\n",
        "lm = WordNetLemmatizer()\n",
        "def lemmatize_words(s):\n",
        "  w = [lm.lemmatize(i) for i in s.split(' ')]\n",
        "\n",
        "  return ' '.join(w)\n",
        "\n",
        "train['comment_text'] = train['comment_text'].map(lambda x: lemmatize_words(x))\n",
        "print(train.loc[12,'comment_text'])"
      ]
    },
    {
      "cell_type": "code",
      "execution_count": null,
      "metadata": {
        "id": "pN6GlAH6J5wk"
      },
      "outputs": [],
      "source": [
        "#feature development\n",
        "x_train = train['comment_text']\n",
        "y_train = train.iloc[:,2:]\n",
        "x_test = test['comment_text']\n",
        "y_test = test.iloc[:,2:]\n",
        "word_limit = 400\n",
        "len = 100\n",
        "m_tokenizer = tf.keras.preprocessing.text.Tokenizer(num_words=word_limit, filters='!\"#$%&()*+,-./:;<=>?@[\\\\]^_`{|}~\\t\\n', lower=True)\n",
        "m_tokenizer.fit_on_texts(x_train)\n",
        "t_train = m_tokenizer.texts_to_sequences(x_train)\n",
        "t_test = m_tokenizer.texts_to_sequences(x_test)\n",
        "train_x = pad_sequences(t_train, maxlen=len)\n",
        "test_x = pad_sequences(t_test, maxlen=len)\n"
      ]
    },
    {
      "cell_type": "code",
      "execution_count": null,
      "metadata": {
        "colab": {
          "base_uri": "https://localhost:8080/"
        },
        "id": "Pvz-cpEoKcXh",
        "outputId": "93fd2b8e-29d3-4f96-8b01-73eb7722fa9f"
      },
      "outputs": [
        {
          "name": "stdout",
          "output_type": "stream",
          "text": [
            "Model: \"model_4\"\n",
            "_________________________________________________________________\n",
            " Layer (type)                Output Shape              Param #   \n",
            "=================================================================\n",
            " input_5 (InputLayer)        [(None, 100)]             0         \n",
            "                                                                 \n",
            " embedding_4 (Embedding)     (None, 100, 50)           20000     \n",
            "                                                                 \n",
            " lstm_8 (LSTM)               (None, 100, 64)           29440     \n",
            "                                                                 \n",
            " lstm_9 (LSTM)               (None, 100, 64)           33024     \n",
            "                                                                 \n",
            " global_max_pooling1d_4 (Glo  (None, 64)               0         \n",
            " balMaxPooling1D)                                                \n",
            "                                                                 \n",
            " dropout_4 (Dropout)         (None, 64)                0         \n",
            "                                                                 \n",
            " dense_4 (Dense)             (None, 6)                 390       \n",
            "                                                                 \n",
            "=================================================================\n",
            "Total params: 82,854\n",
            "Trainable params: 82,854\n",
            "Non-trainable params: 0\n",
            "_________________________________________________________________\n",
            "None\n"
          ]
        }
      ],
      "source": [
        "import keras\n",
        "from keras.layers import Dense, Input, LSTM, Embedding, Dropout, Activation\n",
        "from keras.layers import Bidirectional, GlobalMaxPool1D\n",
        "from keras.models import Model\n",
        "from keras import initializers, regularizers, constraints, optimizers, layers\n",
        "from tensorflow.keras.optimizers import Adam\n",
        "from sklearn.model_selection import train_test_split\n",
        "from keras.models import Sequential\n",
        "embed_layer = 50\n",
        "embedding_layer = Embedding(word_limit,embed_layer)\n",
        "\n",
        "inp=Input(shape=(len, ))\n",
        "embedded_sequences = embedding_layer(inp)\n",
        "x = LSTM(64, return_sequences = True) (embedded_sequences)\n",
        "\n",
        "x = LSTM(64, return_sequences = True) (x)\n",
        "\n",
        "x = GlobalMaxPool1D()(x)\n",
        "x= Dropout(0.2)(x)\n",
        "x= Dense(6,activation='sigmoid') (x)\n",
        "model = Model(inputs=inp, outputs=x)\n",
        "model.compile(loss= 'binary_crossentropy', optimizer= Adam(learning_rate=1e-3),metrics=[tf.keras.metrics.BinaryAccuracy()])\n",
        "print(model.summary())"
      ]
    },
    {
      "cell_type": "code",
      "execution_count": null,
      "metadata": {
        "id": "IbM8rQU4PI8p"
      },
      "outputs": [],
      "source": [
        "batch_size=150\n",
        "epochs=3"
      ]
    },
    {
      "cell_type": "code",
      "execution_count": null,
      "metadata": {
        "id": "im9N5c5cPSFy"
      },
      "outputs": [],
      "source": [
        "callbacks_list = [keras.callbacks.EarlyStopping(monitor='acc',patience=5,), keras.callbacks.ModelCheckpoint(filepath='my_model.h5',monitor='val_loss',save_best_only=True,)]"
      ]
    },
    {
      "cell_type": "code",
      "execution_count": null,
      "metadata": {
        "colab": {
          "background_save": true,
          "base_uri": "https://localhost:8080/"
        },
        "id": "m2KoSY1SPaRF",
        "outputId": "435db985-369c-49a2-f280-797a79326df0"
      },
      "outputs": [
        {
          "name": "stdout",
          "output_type": "stream",
          "text": [
            "Epoch 1/3\n",
            "798/798 [==============================] - ETA: 0s - loss: 0.1572 - binary_accuracy: 0.9629"
          ]
        },
        {
          "name": "stderr",
          "output_type": "stream",
          "text": [
            "WARNING:tensorflow:Early stopping conditioned on metric `acc` which is not available. Available metrics are: loss,binary_accuracy,val_loss,val_binary_accuracy\n"
          ]
        },
        {
          "name": "stdout",
          "output_type": "stream",
          "text": [
            "798/798 [==============================] - 251s 310ms/step - loss: 0.1572 - binary_accuracy: 0.9629 - val_loss: 0.1412 - val_binary_accuracy: 0.9634\n",
            "Epoch 2/3\n",
            "798/798 [==============================] - ETA: 0s - loss: 0.1259 - binary_accuracy: 0.9638"
          ]
        },
        {
          "name": "stderr",
          "output_type": "stream",
          "text": [
            "WARNING:tensorflow:Early stopping conditioned on metric `acc` which is not available. Available metrics are: loss,binary_accuracy,val_loss,val_binary_accuracy\n"
          ]
        },
        {
          "name": "stdout",
          "output_type": "stream",
          "text": [
            "798/798 [==============================] - 242s 303ms/step - loss: 0.1259 - binary_accuracy: 0.9638 - val_loss: 0.0918 - val_binary_accuracy: 0.9690\n",
            "Epoch 3/3\n",
            "798/798 [==============================] - ETA: 0s - loss: 0.0847 - binary_accuracy: 0.9740"
          ]
        },
        {
          "name": "stderr",
          "output_type": "stream",
          "text": [
            "WARNING:tensorflow:Early stopping conditioned on metric `acc` which is not available. Available metrics are: loss,binary_accuracy,val_loss,val_binary_accuracy\n"
          ]
        },
        {
          "name": "stdout",
          "output_type": "stream",
          "text": [
            "\b\b\b\b\b\b\b\b\b\b\b\b\b\b\b\b\b\b\b\b\b\b\b\b\b\b\b\b\b\b\b\b\b\b\b\b\b\b\b\b\b\b\b\b\b\b\b\b\b\b\b\b\b\b\b\b\b\b\b\b\b\b\b\b\b\b\b\b\b\b\b\b\b\b\b\b\b\b\b\b\b\b\b\b\b\b\b\b\b\b\b\r798/798 [==============================] - 250s 313ms/step - loss: 0.0847 - binary_accuracy: 0.9740 - val_loss: 0.0804 - val_binary_accuracy: 0.9748\n"
          ]
        },
        {
          "data": {
            "text/plain": [
              "<keras.callbacks.History at 0x7efd5a0e8e50>"
            ]
          },
          "execution_count": 156,
          "metadata": {},
          "output_type": "execute_result"
        }
      ],
      "source": [
        "model.fit(train_x,y_train,epochs=epochs,batch_size=batch_size,validation_split=0.25,callbacks=callbacks_list,verbose=1)"
      ]
    },
    {
      "cell_type": "code",
      "execution_count": null,
      "metadata": {
        "colab": {
          "background_save": true
        },
        "id": "NZU5EcCtpCVd",
        "outputId": "b337c11f-c666-4df2-94e4-9407dea57a27"
      },
      "outputs": [
        {
          "name": "stdout",
          "output_type": "stream",
          "text": [
            "427/427 [==============================] - 43s 98ms/step\n"
          ]
        }
      ],
      "source": [
        "#predict\n",
        "\n",
        "y_pred = model.predict(test_x, batch_size = batch_size, verbose=1)"
      ]
    },
    {
      "cell_type": "code",
      "execution_count": 177,
      "metadata": {
        "id": "PDJnz7Cy6stE",
        "colab": {
          "base_uri": "https://localhost:8080/"
        },
        "outputId": "edc23222-044e-46b0-da2e-70f6168e9569"
      },
      "outputs": [
        {
          "output_type": "stream",
          "name": "stdout",
          "text": [
            "427/427 [==============================] - 46s 108ms/step - loss: 0.1472 - binary_accuracy: 0.9499\n",
            "Accuracy 94.99%\n"
          ]
        }
      ],
      "source": [
        "#Accuracy from Keras\n",
        "loss, acc = model.evaluate(test_x, y_test, batch_size = batch_size, verbose=1)\n",
        "print('Accuracy', \"{:.2%}\".format(acc))"
      ]
    },
    {
      "cell_type": "code",
      "execution_count": 194,
      "metadata": {
        "id": "jiMRjVpdTprA"
      },
      "outputs": [],
      "source": [
        "#Confusion Matrix\n",
        "from sklearn.metrics import ConfusionMatrixDisplay\n",
        "from sklearn.metrics import confusion_matrix\n",
        "from sklearn.metrics import accuracy_score\n",
        "from sklearn.metrics import classification_report\n",
        "from sklearn.metrics import precision_recall_fscore_support\n",
        "def c_matrix(y_test, y_pred,threshold, classname):\n",
        "\n",
        "   \n",
        "    y_pred = (y_pred > threshold).astype(float)\n",
        "    \n",
        "    accuracy = accuracy_score(y_test, y_pred) \n",
        "    print(\"Accuracy Score for \" + classname + \" is : \" + \"{:.2%}\".format(accuracy))\n",
        "  \n",
        "   \n",
        "    print(' ')\n",
        "    cm = confusion_matrix(y_test, y_pred, labels=[0, 1])\n",
        "    disp = ConfusionMatrixDisplay(confusion_matrix=cm, display_labels=['Not Toxic', 'Toxic'])\n",
        "    \n",
        "    disp.plot()\n",
        "    plt.title('Confusion Matrix: ' + classname)\n",
        "\n",
        "    print(\"Classification Report for \" + classname + \" is :\")\n",
        "    print(classification_report(y_test, y_pred, labels=[0,1], zero_division=1))\n",
        "    print(\" \")\n",
        "    plt.show()\n",
        "    "
      ]
    },
    {
      "cell_type": "code",
      "execution_count": 196,
      "metadata": {
        "id": "I1IntyDCVC-r",
        "colab": {
          "base_uri": "https://localhost:8080/",
          "height": 1000
        },
        "outputId": "bf17a639-8e52-4a94-d464-e35419885f7e"
      },
      "outputs": [
        {
          "output_type": "stream",
          "name": "stdout",
          "text": [
            "Accuracy Score for toxic is : 86.08%\n",
            " \n",
            "Classification Report for toxic is :\n",
            "              precision    recall  f1-score   support\n",
            "\n",
            "           0       0.93      0.91      0.92     57888\n",
            "           1       0.31      0.38      0.34      6090\n",
            "\n",
            "    accuracy                           0.86     63978\n",
            "   macro avg       0.62      0.64      0.63     63978\n",
            "weighted avg       0.87      0.86      0.87     63978\n",
            "\n",
            " \n"
          ]
        },
        {
          "output_type": "display_data",
          "data": {
            "text/plain": [
              "<Figure size 432x288 with 2 Axes>"
            ],
            "image/png": "[encoded data removed]"
          },
          "metadata": {
            "needs_background": "light"
          }
        },
        {
          "output_type": "stream",
          "name": "stdout",
          "text": [
            "Accuracy Score for severe_toxic is : 99.41%\n",
            " \n",
            "Classification Report for severe_toxic is :\n",
            "              precision    recall  f1-score   support\n",
            "\n",
            "           0       0.99      1.00      1.00     63611\n",
            "           1       0.40      0.06      0.10       367\n",
            "\n",
            "    accuracy                           0.99     63978\n",
            "   macro avg       0.70      0.53      0.55     63978\n",
            "weighted avg       0.99      0.99      0.99     63978\n",
            "\n",
            " \n"
          ]
        },
        {
          "output_type": "display_data",
          "data": {
            "text/plain": [
              "<Figure size 432x288 with 2 Axes>"
            ],
            "image/png": "[encoded data removed]"
          },
          "metadata": {
            "needs_background": "light"
          }
        },
        {
          "output_type": "stream",
          "name": "stdout",
          "text": [
            "Accuracy Score for obscene is : 92.41%\n",
            " \n",
            "Classification Report for obscene is :\n",
            "              precision    recall  f1-score   support\n",
            "\n",
            "           0       0.96      0.96      0.96     60287\n",
            "           1       0.36      0.39      0.37      3691\n",
            "\n",
            "    accuracy                           0.92     63978\n",
            "   macro avg       0.66      0.67      0.67     63978\n",
            "weighted avg       0.93      0.92      0.93     63978\n",
            "\n",
            " \n"
          ]
        },
        {
          "output_type": "display_data",
          "data": {
            "text/plain": [
              "<Figure size 432x288 with 2 Axes>"
            ],
            "image/png": "[encoded data removed]"
          },
          "metadata": {
            "needs_background": "light"
          }
        },
        {
          "output_type": "stream",
          "name": "stdout",
          "text": [
            "Accuracy Score for threat is : 99.67%\n",
            " \n",
            "Classification Report for threat is :\n",
            "              precision    recall  f1-score   support\n",
            "\n",
            "           0       1.00      1.00      1.00     63767\n",
            "           1       1.00      0.00      0.00       211\n",
            "\n",
            "    accuracy                           1.00     63978\n",
            "   macro avg       1.00      0.50      0.50     63978\n",
            "weighted avg       1.00      1.00      1.00     63978\n",
            "\n",
            " \n"
          ]
        },
        {
          "output_type": "display_data",
          "data": {
            "text/plain": [
              "<Figure size 432x288 with 2 Axes>"
            ],
            "image/png": "[encoded data removed]"
          },
          "metadata": {
            "needs_background": "light"
          }
        },
        {
          "output_type": "stream",
          "name": "stdout",
          "text": [
            "Accuracy Score for insult is : 93.50%\n",
            " \n",
            "Classification Report for insult is :\n",
            "              precision    recall  f1-score   support\n",
            "\n",
            "           0       0.96      0.97      0.97     60551\n",
            "           1       0.37      0.30      0.33      3427\n",
            "\n",
            "    accuracy                           0.94     63978\n",
            "   macro avg       0.66      0.63      0.65     63978\n",
            "weighted avg       0.93      0.94      0.93     63978\n",
            "\n",
            " \n"
          ]
        },
        {
          "output_type": "display_data",
          "data": {
            "text/plain": [
              "<Figure size 432x288 with 2 Axes>"
            ],
            "image/png": "[encoded data removed]"
          },
          "metadata": {
            "needs_background": "light"
          }
        },
        {
          "output_type": "stream",
          "name": "stdout",
          "text": [
            "Accuracy Score for identity_hate is : 98.89%\n",
            " \n",
            "Classification Report for identity_hate is :\n",
            "              precision    recall  f1-score   support\n",
            "\n",
            "           0       0.99      1.00      0.99     63266\n",
            "           1       1.00      0.00      0.00       712\n",
            "\n",
            "    accuracy                           0.99     63978\n",
            "   macro avg       0.99      0.50      0.50     63978\n",
            "weighted avg       0.99      0.99      0.98     63978\n",
            "\n",
            " \n"
          ]
        },
        {
          "output_type": "display_data",
          "data": {
            "text/plain": [
              "<Figure size 432x288 with 2 Axes>"
            ],
            "image/png": "[encoded data removed]"
          },
          "metadata": {
            "needs_background": "light"
          }
        }
      ],
      "source": [
        "c = y_test.columns\n",
        "for i in range(6):\n",
        "  c_matrix(y_test.iloc[:, i], y_pred[:, i], 0.5, c[i])"
      ]
    }
  ],
  "metadata": {
    "colab": {
      "collapsed_sections": [],
      "provenance": []
    },
    "kernelspec": {
      "display_name": "Python 3",
      "name": "python3"
    },
    "language_info": {
      "name": "python"
    }
  },
  "nbformat": 4,
  "nbformat_minor": 0
}